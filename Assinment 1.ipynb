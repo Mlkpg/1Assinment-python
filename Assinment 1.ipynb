<!DOCTYPE html>
<html>
<head>
  <meta charset="utf-8">
  <meta name="viewport" content="width=device-width, initial-scale=1">
  <title>Jupyter Notebook - Notebook</title>
  
  <link rel="icon" type="image/x-icon" href="/static/favicons/favicon-notebook.ico" class="favicon">
  

  
  <link rel="stylesheet" type="text/css" href="/custom/custom.css">
  
</head>
<body data-notebook="notebooks">

  
  

  
  

  
  

  <script id="jupyter-config-data" type="application/json">
    {"allow_hidden_files": false, "appName": "Jupyter Notebook", "appNamespace": "notebook", "appSettingsDir": "C:/Users/Aditya Chaturvedi/anaconda3/share/jupyter/lab/settings", "appUrl": "/lab", "appVersion": "7.0.8", "baseUrl": "/", "buildAvailable": true, "buildCheck": true, "cacheFiles": true, "copyAbsolutePath": false, "devMode": false, "disabledExtensions": [], "exposeAppInBrowser": false, "extensionManager": {"can_install": true, "install_path": "C:\\Users\\Aditya Chaturvedi\\anaconda3", "name": "PyPI"}, "extraLabextensionsPath": [], "federated_extensions": [{"extension": "./extension", "load": "static/remoteEntry.36690a2bfa9ee0dd7bc8.js", "mimeExtension": "./mimeExtension", "name": "jupyterlab-plotly"}, {"extension": "./extension", "load": "static/remoteEntry.0dca0b46350f0c25c608.js", "name": "@jupyter-notebook/lab-extension", "style": "./style"}, {"extension": "./extension", "load": "static/remoteEntry.ca1efc27dc965162ca86.js", "name": "@jupyter-widgets/jupyterlab-manager"}, {"extension": "./extension", "load": "static/remoteEntry.cfbccb113f4c7c1d65fe.js", "name": "@lckr/jupyterlab_variableinspector", "style": "./style"}, {"extension": "./extension", "load": "static/remoteEntry.c8393541423362724be3.js", "name": "@pyviz/jupyterlab_pyviz", "style": "./style"}], "frontendUrl": "/", "fullAppUrl": "/lab", "fullLabextensionsUrl": "/lab/extensions", "fullLicensesUrl": "/lab/api/licenses", "fullListingsUrl": "/lab/api/listings", "fullMathjaxUrl": "https://cdnjs.cloudflare.com/ajax/libs/mathjax/2.7.7/MathJax.js", "fullSettingsUrl": "/lab/api/settings", "fullStaticUrl": "/static/notebook", "fullThemesUrl": "/lab/api/themes", "fullTranslationsApiUrl": "/lab/api/translations", "fullTreeUrl": "/lab/tree", "fullWorkspacesApiUrl": "/lab/api/workspaces", "jupyterConfigDir": "C:\\Users\\Aditya Chaturvedi\\.jupyter", "labextensionsPath": ["C:\\Users\\Aditya Chaturvedi\\anaconda3\\share\\jupyter\\labextensions", "C:\\Users\\Aditya Chaturvedi\\AppData\\Roaming\\jupyter\\labextensions", "C:\\Users\\Aditya Chaturvedi\\AppData\\Roaming\\Python\\share\\jupyter\\labextensions", "C:\\ProgramData\\jupyter\\labextensions"], "labextensionsUrl": "/lab/extensions", "licensesUrl": "/lab/api/licenses", "listingsUrl": "/lab/api/listings", "mathjaxConfig": "TeX-AMS_HTML-full,Safe", "nbclassic_enabled": false, "news": {"disabled": false}, "notebookPage": "notebooks", "notebookStartsKernel": true, "notebookVersion": "[2, 14, 1]", "preferredPath": "/", "quitButton": true, "rootUri": "file:///c:/Users/Aditya%20Chaturvedi", "schemasDir": "C:/Users/Aditya Chaturvedi/anaconda3/share/jupyter/lab/schemas", "settingsUrl": "/lab/api/settings", "staticDir": "C:/Users/Aditya Chaturvedi/anaconda3/Lib/site-packages/notebook/static", "templatesDir": "C:/Users/Aditya Chaturvedi/anaconda3/Lib/site-packages/notebook/templates", "terminalsAvailable": true, "themesDir": "C:/Users/Aditya Chaturvedi/anaconda3/share/jupyter/lab/themes", "themesUrl": "/lab/api/themes", "token": "343f218a4e27e99cae7276218fc97673d87d52a7abe488a6", "translationsApiUrl": "/lab/api/translations", "treeUrl": "/lab/tree", "userSettingsDir": "C:/Users/Aditya Chaturvedi/.jupyter/lab/user-settings", "virtualDocumentsUri": "file:///c:/Users/Aditya%20Chaturvedi/.virtual_documents", "workspacesApiUrl": "/lab/api/workspaces", "workspacesDir": "C:/Users/Aditya Chaturvedi/.jupyter/lab/workspaces", "wsUrl": ""}
  </script>
  <script src="/static/notebook/bundle.js" main="index"></script>

  <script type="text/javascript">
    /* Remove token from URL. */
    (function () {
      var parsedUrl = new URL(window.location.href);
      if (parsedUrl.searchParams.get('token')) {
        parsedUrl.searchParams.delete('token');
        window.history.replaceState({ }, '', parsedUrl.href);
      }
    })();
  </script>

</body>
</html>