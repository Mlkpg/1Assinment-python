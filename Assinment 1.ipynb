{
 "cells": [
  {
   "cell_type": "code",
   "execution_count": null,
   "id": "13a5dce6-25bb-48d9-baf7-678248293d78",
   "metadata": {},
   "outputs": [],
   "source": []
  },
  {
   "cell_type": "code",
   "execution_count": 11,
   "id": "77a4bbfe-6b03-4343-8672-ca2bb82c452b",
   "metadata": {},
   "outputs": [
    {
     "name": "stdin",
     "output_type": "stream",
     "text": [
      "Enter any numebr  Aditya chaturvedi\n"
     ]
    },
    {
     "name": "stdout",
     "output_type": "stream",
     "text": [
      "idevrutahc aytidA \n"
     ]
    }
   ],
   "source": [
    "# write a python programme that take user input name and print the reverse order \n",
    "\n",
    "name = input(\"Enter any numebr \")\n",
    "rev = \" \" # used to store the reverse value \n",
    "for i in name: # using for loop for to reverse the \n",
    " rev = i+rev\n",
    "print(rev)   "
   ]
  },
  {
   "cell_type": "code",
   "execution_count": null,
   "id": "15d249a0-fcdc-4ae4-b812-f02bb48d6eb3",
   "metadata": {},
   "outputs": [],
   "source": []
  },
  {
   "cell_type": "code",
   "execution_count": 60,
   "id": "4511db81-300c-495b-9c3c-2f4eaac596ba",
   "metadata": {},
   "outputs": [
    {
     "name": "stdin",
     "output_type": "stream",
     "text": [
      " Enter any value  10\n",
      "Enter any value  20.1\n",
      "Enter any value  10\n"
     ]
    },
    {
     "name": "stdout",
     "output_type": "stream",
     "text": [
      "<class 'int'> 10\n",
      "<class 'float'> 10.0 10\n",
      "<class 'complex'>\n"
     ]
    }
   ],
   "source": [
    "# 2 python programme that take an input number from the user , convert the different numeric data type and display the convert value\n",
    "\n",
    "a = int (input(\" Enter any value \")) # user input for integer\n",
    "b = input(\"Enter any value \") # user input for float\n",
    "c = input(\"Enter any value \") # user input for complex\n",
    "print(type(a),a) # type casting integer\n",
    "\n",
    "b = float(a)  # type casting float\n",
    "print(type(b),b,c)\n",
    "\n",
    "c = complex(a) # type casting complex\n",
    "print(type(c))\n",
    "\n",
    "\n"
   ]
  },
  {
   "cell_type": "markdown",
   "id": "899eed5c-1141-4bdc-af7b-b7248f952fc6",
   "metadata": {},
   "source": []
  },
  {
   "cell_type": "code",
   "execution_count": 63,
   "id": "9fda51de-72b3-4bc0-a620-32b174bb7bf3",
   "metadata": {},
   "outputs": [
    {
     "name": "stdin",
     "output_type": "stream",
     "text": [
      "Enter length of area  10\n",
      "Enter width of area  20\n"
     ]
    },
    {
     "name": "stdout",
     "output_type": "stream",
     "text": [
      "area of rectangle : 200.0\n"
     ]
    }
   ],
   "source": [
    "# create the script the area of the rectangle \n",
    "\n",
    "num_1 = float(input(\"Enter length of area \")) # input the value of area of length\n",
    "num_2 = float(input(\"Enter width of area \")) # input the value of area of width\n",
    "area = num_1 * num_2 \n",
    "print(\"area of rectangle :\" , area)  # print the total area using print function "
   ]
  },
  {
   "cell_type": "code",
   "execution_count": 65,
   "id": "6d428cfa-3523-4e75-a68e-a84440f5d81b",
   "metadata": {},
   "outputs": [
    {
     "name": "stdout",
     "output_type": "stream",
     "text": [
      "area of the rectangle is 200.00\n"
     ]
    }
   ],
   "source": [
    "\n",
    " # Modify the rectangle area program to format the output so that it displays the area with two decimal places.\n",
    "\n",
    "area = num_1 *num_2\n",
    "float_area = format(area,\".2f\")\n",
    "print(f\"area of the rectangle is {float_area}\")\n"
   ]
  },
  {
   "cell_type": "code",
   "execution_count": 87,
   "id": "628a2894-218f-47e6-a32d-c34e66e4f06c",
   "metadata": {},
   "outputs": [
    {
     "name": "stdin",
     "output_type": "stream",
     "text": [
      "enter any number  10\n",
      "enter any number  20\n",
      "enter any number  50\n"
     ]
    },
    {
     "name": "stdout",
     "output_type": "stream",
     "text": [
      "Average is  26.666667 : \n"
     ]
    }
   ],
   "source": [
    "#  Write a Python script that takes three numbers as input and prints their average using the % method for string formatting.\n",
    "\n",
    "# Also, use the print function to display a message that states, \"The average of the three numbers is: [calculated average]\".\n",
    "a = int(input(\"enter any number \"))\n",
    "b = int(input(\"enter any number \"))\n",
    "c = int(input(\"enter any number \"))\n",
    "\n",
    "avg = (a+b+c)/3\n",
    "\n",
    "print(\"Average is % 2f : \" % avg)\n"
   ]
  },
  {
   "cell_type": "code",
   "execution_count": 86,
   "id": "a1698ffd-361b-44d8-8e8c-9d403df88dc7",
   "metadata": {},
   "outputs": [
    {
     "name": "stdin",
     "output_type": "stream",
     "text": [
      "enter any number 10\n"
     ]
    },
    {
     "name": "stdout",
     "output_type": "stream",
     "text": [
      "this is pos ++ value  10\n"
     ]
    },
    {
     "name": "stdin",
     "output_type": "stream",
     "text": [
      "enter any number -10\n"
     ]
    },
    {
     "name": "stdout",
     "output_type": "stream",
     "text": [
      "this is neg -- value  10\n"
     ]
    },
    {
     "name": "stdin",
     "output_type": "stream",
     "text": [
      "enter any number 0\n"
     ]
    },
    {
     "name": "stdout",
     "output_type": "stream",
     "text": [
      "this value is zero 10\n"
     ]
    }
   ],
   "source": [
    "\n",
    "#  Write a Python program that asks the user for a number and determines whether it is positive, negative, or zero.\n",
    "\n",
    " # Implement a loop that continues to ask the user for a number until they enter 'exit'.\n",
    "\n",
    "#  Use break to exit the loop and continue to prompt for a new number if the input is not 'exit'.\n",
    "\n",
    "for i in range(1,4):\n",
    " num = int(input(\"enter any number\"))\n",
    " if(num==0):\n",
    "     print(\"this value is zero\",a)\n",
    " elif(num>0):\n",
    "     print(\"this is pos ++ value \",a)\n",
    " elif(num<0):\n",
    "     print(\"this is neg -- value \",a)\n",
    " else:\n",
    "     print(\"enter the valid number \")\n",
    "\n"
   ]
  },
  {
   "cell_type": "code",
   "execution_count": null,
   "id": "77dd361d-7e07-4f9d-b4b9-4a13a74a9c0d",
   "metadata": {},
   "outputs": [],
   "source": []
  },
  {
   "cell_type": "code",
   "execution_count": 89,
   "id": "ebcaaea7-1a6c-4c35-bb3c-2f3e9380abab",
   "metadata": {},
   "outputs": [
    {
     "name": "stdin",
     "output_type": "stream",
     "text": [
      "Enter the first value:  20\n",
      "Enter the second value:  3\n"
     ]
    },
    {
     "name": "stdout",
     "output_type": "stream",
     "text": [
      "20 is even and 3 is odd\n"
     ]
    }
   ],
   "source": [
    "# Create a Python script that takes two numbers as input and prints whether both numbers are even, odd, or one of each using relational and logical operators.\n",
    "\n",
    "first_value= int(input(\"Enter the first value: \"))\n",
    "second_value= int(input(\"Enter the second value: \"))\n",
    "\n",
    "if (first_value % 2 ==0) and (second_value % 2 == 0):\n",
    "    print(f\"{first_value} and {second_value} both are even\")\n",
    "elif (first_value % 2 !=0) and (second_value % 2 != 0):\n",
    "    print(f\"{first_value} and {second_value} both are odd\")\n",
    "else:\n",
    "    if first_value % 2 ==0:\n",
    "        print(f\"{first_value} is even and {second_value} is odd\")\n",
    "    else:\n",
    "        print(f\"{first_value} is odd and {second_value} is even\")\n",
    "    \n",
    "\n"
   ]
  },
  {
   "cell_type": "code",
   "execution_count": 136,
   "id": "5a7058f0-d297-4515-9300-70597f54d7eb",
   "metadata": {},
   "outputs": [
    {
     "name": "stdin",
     "output_type": "stream",
     "text": [
      "Enter an integer:  10\n"
     ]
    },
    {
     "name": "stdout",
     "output_type": "stream",
     "text": [
      "Binary: 0b1010\n",
      "Octal: 0o12\n",
      "Hexadecimal: 0xa\n"
     ]
    }
   ],
   "source": [
    "\n",
    "\n",
    "def convert(num):\n",
    "    # Converting to binary \n",
    "    binary = bin(num)\n",
    "\n",
    "    # Converting to octal \n",
    "    octal = oct(num)\n",
    "\n",
    "    # Converting to hexadecimal     \n",
    "    hexadecimal = hex(num)\n",
    "\n",
    "    print(f\"Binary: {binary}\")\n",
    "    print(f\"Octal: {octal}\")\n",
    "    print(f\"Hexadecimal: {hexadecimal}\")\n",
    "\n",
    "\n",
    "   \n",
    "num = int(input(\"Enter an integer: \"))\n",
    "if num < 0:\n",
    "    print(\"Please enter a non-negative integer.\")\n",
    "else:\n",
    "    convert(num)\n",
    "\n",
    "\n",
    "\n",
    "\n"
   ]
  },
  {
   "cell_type": "code",
   "execution_count": null,
   "id": "b2873b45-a8cc-4f26-8075-a84c3856ceca",
   "metadata": {},
   "outputs": [],
   "source": []
  }
 ],
 "metadata": {
  "kernelspec": {
   "display_name": "Python 3 (ipykernel)",
   "language": "python",
   "name": "python3"
  },
  "language_info": {
   "codemirror_mode": {
    "name": "ipython",
    "version": 3
   },
   "file_extension": ".py",
   "mimetype": "text/x-python",
   "name": "python",
   "nbconvert_exporter": "python",
   "pygments_lexer": "ipython3",
   "version": "3.12.4"
  }
 },
 "nbformat": 4,
 "nbformat_minor": 5
}
